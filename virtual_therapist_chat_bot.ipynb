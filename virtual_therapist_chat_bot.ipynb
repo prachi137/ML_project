{
  "nbformat": 4,
  "nbformat_minor": 0,
  "metadata": {
    "colab": {
      "provenance": [],
      "include_colab_link": true
    },
    "kernelspec": {
      "name": "python3",
      "display_name": "Python 3"
    },
    "language_info": {
      "name": "python"
    }
  },
  "cells": [
    {
      "cell_type": "markdown",
      "metadata": {
        "id": "view-in-github",
        "colab_type": "text"
      },
      "source": [
        "<a href=\"https://colab.research.google.com/github/prachi137/ML_project/blob/main/virtual_therapist_chat_bot.ipynb\" target=\"_parent\"><img src=\"https://colab.research.google.com/assets/colab-badge.svg\" alt=\"Open In Colab\"/></a>"
      ]
    },
    {
      "cell_type": "code",
      "execution_count": null,
      "metadata": {
        "id": "EI7lzPoZdpVC"
      },
      "outputs": [],
      "source": [
        "#description: this program simulates one of the first ever chatbots called eliza"
      ]
    },
    {
      "cell_type": "code",
      "source": [
        "#import the libaries\n",
        "import re\n",
        "import random"
      ],
      "metadata": {
        "id": "udIghKHPeH_O"
      },
      "execution_count": null,
      "outputs": []
    },
    {
      "cell_type": "code",
      "source": [
        "#create a list of pre-defined responses similar to eliza's by using a dictionary aka a key value pair\n",
        "response = {\n",
        "    \"hello\":[\"Hello, how can i help you\"],\n",
        "    \"i feel (.*)\":[\"why do you feel {}?\", \"How long have been feeling{}?\"],\n",
        "    \"i am (.*)\":[\"why do you say you're{}?\",\"how long have you been{}?\"],\n",
        "    \"i'm (.*)\":[\"why are you {}\", \"how long have you been{}?\"],\n",
        "    \" i(.*) you\" :[\"why do you {}me?\",\"what makes you think you {} me?\"],\n",
        "    \"i (.*) myself\":[\"why do you { yourself?}\",\"what makes you think you {} ypurself?\"],\n",
        "    \"(.*) sorry (.*)\":[\"there is no need to apologize.\", \"what are you apologizing for?\"],\n",
        "    \"(.*) friend (.*)\":[\"tell me more about your friend.\",\"how do your friends make you feel?\"],\n",
        "    \"yes\":[\"you seem quite sure.\",\"ok, but can you elaborate.\"],\n",
        "    \"no\":[\"why not?\", \"ok, but can you elaborate a bit?\"],\n",
        "    \"(.*)\":[\"please tell me more.\", \"let's change focus a bit... tell me about your family\", \"can you elaborate on that?\"],\n",
        "   \"\":[\"why do you think that?\", \"please tell me more.\",\"Let's change focus a bit... tell me about your family\",\"can you elaborate on that?\" ]\n",
        "}\n"
      ],
      "metadata": {
        "id": "xeJY8ydMeeu4"
      },
      "execution_count": null,
      "outputs": []
    },
    {
      "cell_type": "code",
      "source": [
        "#define a functin to match the user's input to a pre-defined response\n",
        "def match_response(input_text):\n",
        "  #create a for loop to iterate over the items of the \"response\" dictionary\n",
        "  for pattern, response_list in response.items():\n",
        "    matches = re.match(pattern, input_text.lower())\n",
        "    if matches:\n",
        "      chosen_response = random.choice(response_list)\n",
        "      return chosen_response.format(\"matches.group()\")\n",
        "\n",
        "      #there is no pattern match so return\n",
        "      return \"i am sorry i don't understand what you are saying.\"\n"
      ],
      "metadata": {
        "id": "cCa2KkY4qPk-"
      },
      "execution_count": null,
      "outputs": []
    },
    {
      "cell_type": "code",
      "source": [],
      "metadata": {
        "id": "JVW0pluM696R"
      },
      "execution_count": null,
      "outputs": []
    },
    {
      "cell_type": "code",
      "source": [
        "#create the nain loop to start the chatbot\n",
        "print(\"welcome to the eliza chatbot Psychotherapist Chatbot\")\n",
        "while True:\n",
        "  user_input = input(\"you:\")\n",
        "  if user_input.lower() == \"bye\":\n",
        "    print(\"eliza: goodbye\")\n",
        "    break\n",
        "  else:\n",
        "    print(\"eliza:\"+match_response(user_input))\n"
      ],
      "metadata": {
        "colab": {
          "base_uri": "https://localhost:8080/"
        },
        "id": "CdFvRzLmucvC",
        "outputId": "80b1cc9f-66b5-40ad-9fac-89fa6338a8c7"
      },
      "execution_count": null,
      "outputs": [
        {
          "output_type": "stream",
          "name": "stdout",
          "text": [
            "welcome to the eliza chatbot Psychotherapist Chatbot\n",
            "you:hi\n",
            "eliza:please tell me more.\n",
            "you:bye\n",
            "eliza: goodbye\n"
          ]
        }
      ]
    }
  ]
}